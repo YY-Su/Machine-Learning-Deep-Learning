{
  "nbformat": 4,
  "nbformat_minor": 0,
  "metadata": {
    "colab": {
      "provenance": []
    },
    "kernelspec": {
      "name": "python3",
      "display_name": "Python 3"
    },
    "language_info": {
      "name": "python"
    }
  },
  "cells": [
    {
      "cell_type": "markdown",
      "source": [
        "# **Multi-Armed Bandit Problem**\n",
        "This classic RL problem demonstrates the\n",
        "exploration–exploitation tradeoff dilemma.\n",
        "\n",
        "Imagine a gambler at a row of slot\n",
        "machines (\"one-armed bandits\") deciding\n",
        "which ones to play, how many times to\n",
        "play each one and in which order to play\n",
        "them, and whether to continue with current machine or try different one.\n",
        "\n",
        "In the problem, each slot machine provides a random reward from a probability distribution specific to that machine, that is not known a priori. The objective of the gambler is to maximize the sum of rewards earned through a sequence of lever pulls.\n",
        "\n",
        "The crucial tradeoff the gambler faces at each trial is between \"exploitation\" of the machine that has the highest expected payoff calculated thus far and \"exploration\" to get more information about the expected payoffs of the other machines in the hope to get even better payoffs. This trade-off between exploration and exploitation is constantly faced in RL."
      ],
      "metadata": {
        "id": "LWkT9YoNlvdI"
      }
    },
    {
      "cell_type": "code",
      "source": [
        "import numpy as np\n",
        "import matplotlib.pyplot as plt"
      ],
      "metadata": {
        "id": "wUEC1TCpvLoC"
      },
      "execution_count": null,
      "outputs": []
    },
    {
      "cell_type": "code",
      "source": [
        "#\n",
        "# Define Constants\n",
        "#\n",
        "N_ARMS=10 #10 \"bandits\" in a row\n",
        "N_STEPS = 10000 #10K steps\n",
        "N_EPISODES = 1000 # 1000 episodes\n",
        "\n",
        "# 5 cases based on Task 1:\n",
        "# a. Epsilon starts at 0.1 with no decay\n",
        "# b. Epsilon starts at 1.0 with decay rate of 0.9\n",
        "# c. Epsilon starts at 1.0 with decay rate of 0.99\n",
        "# d. Epsilon starts at 1.0 with decay rate of 0.999\n",
        "# e. Epsilon starts at 1.0 with decay rate of 0.9999\n",
        "cases = {\n",
        "    'a': {'initial_epsilon': 0.1, 'decay': 1.0},     # no decay\n",
        "    'b': {'initial_epsilon': 1.0, 'decay': 0.9},\n",
        "    'c': {'initial_epsilon': 1.0, 'decay': 0.99},\n",
        "    'd': {'initial_epsilon': 1.0, 'decay': 0.999},\n",
        "    'e': {'initial_epsilon': 1.0, 'decay': 0.9999}\n",
        "}\n",
        "\n",
        "# Dictionary to store average total rewards for each case\n",
        "results = {}"
      ],
      "metadata": {
        "id": "7bHPjuMevM2p"
      },
      "execution_count": null,
      "outputs": []
    },
    {
      "cell_type": "code",
      "source": [
        "#\n",
        "# Define the Multi-Armed Bandit class\n",
        "# (1 row of N_ARMS slot machines)\n",
        "#\n",
        "class MultiArmedBandit:\n",
        "    # Initializer\n",
        "    def __init__(self):\n",
        "       # probability distribution specific to the N_ARMS slot machine (not known before hand)\n",
        "       self.probabilities=np.array([0.0, 0.1, 0.2, 0.3, 0.4, 0.5, 0.6, 0.7, 0.8, 0.9])\n",
        "\n",
        "    # Simulate a single pull of slot machine arm\n",
        "    # Return 1 (win) with probability of the arm, else 0 (lose)\n",
        "    def pull(self, arm):\n",
        "        return 1 if np.random.rand() < self.probabilities[arm] else 0"
      ],
      "metadata": {
        "id": "jfoaM1IMvgYf"
      },
      "execution_count": null,
      "outputs": []
    },
    {
      "cell_type": "code",
      "source": [
        "#\n",
        "# Define the Agent using the Epsilon-Greedy strategy with added decay\n",
        "#\n",
        "class EpsilonGreedyAgent:\n",
        "    # Initializer\n",
        "    def __init__(self, epsilon, decay=1.0):\n",
        "        self.initial_epsilon = epsilon  # Store initial epsilon for reference\n",
        "        self.epsilon = epsilon          # Current epsilon value\n",
        "        self.decay = decay              # Decay factor (1.0 means no decay)\n",
        "        self.est_returns = np.zeros(N_ARMS)  # Estimated expected returns for each arm\n",
        "        self.arm_counts = np.zeros(N_ARMS)   # Number of times each arm was pulled\n",
        "        self.total_rewards = np.zeros(N_ARMS)  # Accumulated rewards per arm\n",
        "\n",
        "    # Select an arm to pull based on the Epsilon-Greedy strategy\n",
        "    # by generating a random number to decide whether to explore or exploit\n",
        "    def select_arm(self):\n",
        "        # Explore with probability epsilon; else, exploit the best-known arm.\n",
        "        if np.random.rand() < self.epsilon:\n",
        "            # Explore: Return a random arm 0 to N_ARMS-1\n",
        "            return np.random.randint(N_ARMS)\n",
        "        else:\n",
        "            # Exploit: pick the arm with the highest estimated return\n",
        "            return np.argmax(self.est_returns)\n",
        "\n",
        "    # Update estimated expected returns of an arm\n",
        "    # (reward is 1 or 0)\n",
        "    def update(self, arm, reward):\n",
        "        # Increment the count for the chosen arm\n",
        "        self.arm_counts[arm] += 1\n",
        "        # Add the reward to the total rewards for that arm\n",
        "        self.total_rewards[arm] += reward\n",
        "        # Update the running average for that arm\n",
        "        self.est_returns[arm] = self.total_rewards[arm] / self.arm_counts[arm]\n",
        "        # Decay the epsilon value after each pull\n",
        "        self.epsilon *= self.decay"
      ],
      "metadata": {
        "id": "Ilqfag0qwkxx"
      },
      "execution_count": null,
      "outputs": []
    },
    {
      "cell_type": "markdown",
      "source": [
        "**Run Simulation for 1000 Episodes**\n",
        "<br>(each episode has 10,000 pulls)"
      ],
      "metadata": {
        "id": "Hv2Kq7FsIoAk"
      }
    },
    {
      "cell_type": "code",
      "source": [
        "# ------------------------------------------------------------------\n",
        "# Run Simulation for Each Configuration\n",
        "# ------------------------------------------------------------------\n",
        "# The 'cases' dictionary contains five configurations for the\n",
        "# epsilon-greedy agent. Each configuration has:\n",
        "#   - initial_epsilon: The starting exploration rate\n",
        "#   - decay: The factor by which epsilon is multiplied after each pull\n",
        "# Iterate over these configurations to compare their performance.\n",
        "# ------------------------------------------------------------------\n",
        "for case_key, params in cases.items():\n",
        "    # Extract parameters from the current configuration\n",
        "    initial_epsilon = params['initial_epsilon']\n",
        "    decay = params['decay']\n",
        "\n",
        "    # This list will store the total reward for each episode (each episode has N_STEPS pulls)\n",
        "    rewards_per_episode = []\n",
        "\n",
        "    # --------------------------------------------------------------\n",
        "    # Run Multiple Episodes for the Current Configuration\n",
        "    # --------------------------------------------------------------\n",
        "    for episode in range(N_EPISODES):\n",
        "        # Initialization\n",
        "        # Create a new bandit (with 10 arms) for each episode\n",
        "        bandit = MultiArmedBandit()\n",
        "        # Create an agent with the specified initial epsilon and decay\n",
        "        agent = EpsilonGreedyAgent(epsilon=initial_epsilon, decay=decay)\n",
        "\n",
        "        # Keep track of the total reward gained in this episode\n",
        "        total_reward = 0\n",
        "\n",
        "        # ----------------------------------------------------------\n",
        "        # Iterating N_STEPS Pulls in Each Episode\n",
        "        # ----------------------------------------------------------\n",
        "        for step in range(N_STEPS):\n",
        "            # Agent decides which arm to pull based on its\n",
        "            # current estimated returns and epsilon value\n",
        "            arm = agent.select_arm()\n",
        "\n",
        "            # The bandit returns a reward (1 or 0) for pulling 'arm'\n",
        "            reward = bandit.pull(arm)\n",
        "\n",
        "            # Update the agent's knowledge (estimated returns)\n",
        "            # and decay epsilon if applicable\n",
        "            agent.update(arm, reward)\n",
        "\n",
        "            # Accumulate the reward for this episode\n",
        "            total_reward += reward\n",
        "\n",
        "        # After finishing all N_STEPS, record the total reward for this episode\n",
        "        rewards_per_episode.append(total_reward)\n",
        "\n",
        "    # Compute the average reward across all episodes for this configuration\n",
        "    avg_reward = np.mean(rewards_per_episode)\n",
        "\n",
        "    # Store the average reward in the results dictionary using the case key\n",
        "    results[case_key] = avg_reward\n",
        "\n",
        "    # Print a summary of the results for this configuration\n",
        "    print(f\"Case {case_key}: initial_epsilon={initial_epsilon}, decay={decay} \"\n",
        "          f\"-> Average Total Reward: {avg_reward}\")\n",
        "\n",
        "# ------------------------------------------------------------------\n",
        "# Identify and Print the Best Configuration\n",
        "# ------------------------------------------------------------------\n",
        "# We find the key in 'results' with the highest average reward\n",
        "best_case = max(results, key=results.get)\n",
        "print(f\"\\nBest configuration: Case {best_case} with Average Total Reward: {results[best_case]}\")\n",
        "\n",
        "# ------------------------------------------------------------------\n",
        "# Plot the Results for Visual Comparison\n",
        "# ------------------------------------------------------------------\n",
        "plt.figure(figsize=(10,6))\n",
        "plt.bar(results.keys(), results.values(), color='skyblue')\n",
        "plt.xlabel(\"Case\")\n",
        "plt.ylabel(\"Average Total Reward\")\n",
        "plt.title(\"Epsilon-Greedy Strategy Comparison\")\n",
        "plt.show()\n"
      ],
      "metadata": {
        "id": "65XVEiXgIZvM",
        "colab": {
          "base_uri": "https://localhost:8080/",
          "height": 686
        },
        "outputId": "917be317-cb4c-432a-b65e-243963f09cf5"
      },
      "execution_count": null,
      "outputs": [
        {
          "output_type": "stream",
          "name": "stdout",
          "text": [
            "Case a: initial_epsilon=0.1, decay=1.0 -> Average Total Reward: 8490.313\n",
            "Case b: initial_epsilon=1.0, decay=0.9 -> Average Total Reward: 8071.031\n",
            "Case c: initial_epsilon=1.0, decay=0.99 -> Average Total Reward: 8868.2\n",
            "Case d: initial_epsilon=1.0, decay=0.999 -> Average Total Reward: 8545.61\n",
            "Case e: initial_epsilon=1.0, decay=0.9999 -> Average Total Reward: 6155.528\n",
            "\n",
            "Best configuration: Case c with Average Total Reward: 8868.2\n"
          ]
        },
        {
          "output_type": "display_data",
          "data": {
            "text/plain": [
              "<Figure size 1000x600 with 1 Axes>"
            ],
            "image/png": "[encoded data removed]"
          },
          "metadata": {}
        }
      ]
    }
  ]
}