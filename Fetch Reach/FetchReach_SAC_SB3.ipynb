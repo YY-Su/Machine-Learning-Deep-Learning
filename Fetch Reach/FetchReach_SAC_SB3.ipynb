{
  "cells": [
    {
      "cell_type": "markdown",
      "metadata": {
        "id": "V0iLn5MDNHyK"
      },
      "source": [
        "# Solving FetchReach with SAC\n"
      ]
    },
    {
      "cell_type": "code",
      "execution_count": null,
      "metadata": {
        "collapsed": true,
        "id": "t4I8aYFHctla"
      },
      "outputs": [],
      "source": [
        "#\n",
        "# Installing Stable Baselines3\n",
        "#\n",
        "!pip install stable-baselines3 gymnasium-robotics mujoco -q\n",
        "!apt-get install -y xvfb"
      ]
    },
    {
      "cell_type": "code",
      "execution_count": null,
      "metadata": {
        "colab": {
          "base_uri": "https://localhost:8080/"
        },
        "id": "wxs8ch-CmzzM",
        "outputId": "995dd6d5-5b0d-4faf-afdb-1a95b5acfc74"
      },
      "outputs": [
        {
          "output_type": "stream",
          "name": "stdout",
          "text": [
            "Mounted at /content/drive\n"
          ]
        }
      ],
      "source": [
        "from google.colab import drive\n",
        "drive.mount('/content/drive')"
      ]
    },
    {
      "cell_type": "code",
      "execution_count": null,
      "metadata": {
        "id": "cjxktKT6NHyN"
      },
      "outputs": [],
      "source": [
        "import os\n",
        "import gymnasium as gym\n",
        "import gymnasium_robotics\n",
        "import numpy as np\n",
        "\n",
        "from stable_baselines3 import SAC\n",
        "from stable_baselines3.common.evaluation import evaluate_policy\n",
        "from stable_baselines3.common.callbacks import CheckpointCallback\n",
        "\n",
        "from gym.wrappers import RecordVideo\n",
        "from IPython.display import Video\n",
        "import glob"
      ]
    },
    {
      "cell_type": "code",
      "execution_count": null,
      "metadata": {
        "id": "pf54sZSso29s",
        "colab": {
          "base_uri": "https://localhost:8080/"
        },
        "outputId": "3ad442a8-dd33-4435-f34b-20d3c3a756cc"
      },
      "outputs": [
        {
          "output_type": "stream",
          "name": "stdout",
          "text": [
            "dict_keys(['CartPole-v0', 'CartPole-v1', 'MountainCar-v0', 'MountainCarContinuous-v0', 'Pendulum-v1', 'Acrobot-v1', 'phys2d/CartPole-v0', 'phys2d/CartPole-v1', 'phys2d/Pendulum-v0', 'LunarLander-v3', 'LunarLanderContinuous-v3', 'BipedalWalker-v3', 'BipedalWalkerHardcore-v3', 'CarRacing-v3', 'Blackjack-v1', 'FrozenLake-v1', 'FrozenLake8x8-v1', 'CliffWalking-v0', 'Taxi-v3', 'tabular/Blackjack-v0', 'tabular/CliffWalking-v0', 'Reacher-v2', 'Reacher-v4', 'Reacher-v5', 'Pusher-v2', 'Pusher-v4', 'Pusher-v5', 'InvertedPendulum-v2', 'InvertedPendulum-v4', 'InvertedPendulum-v5', 'InvertedDoublePendulum-v2', 'InvertedDoublePendulum-v4', 'InvertedDoublePendulum-v5', 'HalfCheetah-v2', 'HalfCheetah-v3', 'HalfCheetah-v4', 'HalfCheetah-v5', 'Hopper-v2', 'Hopper-v3', 'Hopper-v4', 'Hopper-v5', 'Swimmer-v2', 'Swimmer-v3', 'Swimmer-v4', 'Swimmer-v5', 'Walker2d-v2', 'Walker2d-v3', 'Walker2d-v4', 'Walker2d-v5', 'Ant-v2', 'Ant-v3', 'Ant-v4', 'Ant-v5', 'Humanoid-v2', 'Humanoid-v3', 'Humanoid-v4', 'Humanoid-v5', 'HumanoidStandup-v2', 'HumanoidStandup-v4', 'HumanoidStandup-v5', 'GymV21Environment-v0', 'GymV26Environment-v0', 'FetchSlide-v1', 'FetchSlide-v3', 'FetchPickAndPlace-v1', 'FetchPickAndPlace-v3', 'FetchReach-v1', 'FetchReach-v3', 'FetchPush-v1', 'FetchPush-v3', 'HandReach-v0', 'HandReach-v2', 'HandManipulateBlockRotateZ-v0', 'HandManipulateBlockRotateZ-v1', 'HandManipulateBlockRotateZ_BooleanTouchSensors-v0', 'HandManipulateBlockRotateZ_BooleanTouchSensors-v1', 'HandManipulateBlockRotateZ_ContinuousTouchSensors-v0', 'HandManipulateBlockRotateZ_ContinuousTouchSensors-v1', 'HandManipulateBlockRotateParallel-v0', 'HandManipulateBlockRotateParallel-v1', 'HandManipulateBlockRotateParallel_BooleanTouchSensors-v0', 'HandManipulateBlockRotateParallel_BooleanTouchSensors-v1', 'HandManipulateBlockRotateParallel_ContinuousTouchSensors-v0', 'HandManipulateBlockRotateParallel_ContinuousTouchSensors-v1', 'HandManipulateBlockRotateXYZ-v0', 'HandManipulateBlockRotateXYZ-v1', 'HandManipulateBlockRotateXYZ_BooleanTouchSensors-v0', 'HandManipulateBlockRotateXYZ_BooleanTouchSensors-v1', 'HandManipulateBlockRotateXYZ_ContinuousTouchSensors-v0', 'HandManipulateBlockRotateXYZ_ContinuousTouchSensors-v1', 'HandManipulateBlockFull-v0', 'HandManipulateBlockFull-v1', 'HandManipulateBlock-v0', 'HandManipulateBlock-v1', 'HandManipulateBlock_BooleanTouchSensors-v0', 'HandManipulateBlock_BooleanTouchSensors-v1', 'HandManipulateBlock_ContinuousTouchSensors-v0', 'HandManipulateBlock_ContinuousTouchSensors-v1', 'HandManipulateEggRotate-v0', 'HandManipulateEggRotate-v1', 'HandManipulateEggRotate_BooleanTouchSensors-v0', 'HandManipulateEggRotate_BooleanTouchSensors-v1', 'HandManipulateEggRotate_ContinuousTouchSensors-v0', 'HandManipulateEggRotate_ContinuousTouchSensors-v1', 'HandManipulateEggFull-v0', 'HandManipulateEggFull-v1', 'HandManipulateEgg-v0', 'HandManipulateEgg-v1', 'HandManipulateEgg_BooleanTouchSensors-v0', 'HandManipulateEgg_BooleanTouchSensors-v1', 'HandManipulateEgg_ContinuousTouchSensors-v0', 'HandManipulateEgg_ContinuousTouchSensors-v1', 'HandManipulatePenRotate-v0', 'HandManipulatePenRotate-v1', 'HandManipulatePenRotate_BooleanTouchSensors-v0', 'HandManipulatePenRotate_BooleanTouchSensors-v1', 'HandManipulatePenRotate_ContinuousTouchSensors-v0', 'HandManipulatePenRotate_ContinuousTouchSensors-v1', 'HandManipulatePenFull-v0', 'HandManipulatePenFull-v1', 'HandManipulatePen-v0', 'HandManipulatePen-v1', 'HandManipulatePen_BooleanTouchSensors-v0', 'HandManipulatePen_BooleanTouchSensors-v1', 'HandManipulatePen_ContinuousTouchSensors-v0', 'HandManipulatePen_ContinuousTouchSensors-v1', 'AntMaze_UMaze-v3', 'AntMaze_Open-v3', 'AntMaze_Open_Diverse_G-v3', 'AntMaze_Open_Diverse_GR-v3', 'AntMaze_Medium-v3', 'AntMaze_Medium_Diverse_G-v3', 'AntMaze_Medium_Diverse_GR-v3', 'AntMaze_Large-v3', 'AntMaze_Large_Diverse_G-v3', 'AntMaze_Large_Diverse_GR-v3', 'AntMaze_UMaze-v4', 'AntMaze_Open-v4', 'AntMaze_Open_Diverse_G-v4', 'AntMaze_Open_Diverse_GR-v4', 'AntMaze_Medium-v4', 'AntMaze_Medium_Diverse_G-v4', 'AntMaze_Medium_Diverse_GR-v4', 'AntMaze_Large-v4', 'AntMaze_Large_Diverse_G-v4', 'AntMaze_Large_Diverse_GR-v4', 'AntMaze_UMaze-v5', 'AntMaze_Open-v5', 'AntMaze_Open_Diverse_G-v5', 'AntMaze_Open_Diverse_GR-v5', 'AntMaze_Medium-v5', 'AntMaze_Medium_Diverse_G-v5', 'AntMaze_Medium_Diverse_GR-v5', 'AntMaze_Large-v5', 'AntMaze_Large_Diverse_G-v5', 'AntMaze_Large_Diverse_GR-v5', 'PointMaze_UMaze-v3', 'PointMaze_Open-v3', 'PointMaze_Open_Diverse_G-v3', 'PointMaze_Open_Diverse_GR-v3', 'PointMaze_Medium-v3', 'PointMaze_Medium_Diverse_G-v3', 'PointMaze_Medium_Diverse_GR-v3', 'PointMaze_Large-v3', 'PointMaze_Large_Diverse_G-v3', 'PointMaze_Large_Diverse_GR-v3', 'FetchSlideDense-v1', 'FetchSlideDense-v3', 'FetchPickAndPlaceDense-v1', 'FetchPickAndPlaceDense-v3', 'FetchReachDense-v1', 'FetchReachDense-v3', 'FetchPushDense-v1', 'FetchPushDense-v3', 'HandReachDense-v0', 'HandReachDense-v2', 'HandManipulateBlockRotateZDense-v0', 'HandManipulateBlockRotateZDense-v1', 'HandManipulateBlockRotateZ_BooleanTouchSensorsDense-v0', 'HandManipulateBlockRotateZ_BooleanTouchSensorsDense-v1', 'HandManipulateBlockRotateZ_ContinuousTouchSensorsDense-v0', 'HandManipulateBlockRotateZ_ContinuousTouchSensorsDense-v1', 'HandManipulateBlockRotateParallelDense-v0', 'HandManipulateBlockRotateParallelDense-v1', 'HandManipulateBlockRotateParallel_BooleanTouchSensorsDense-v0', 'HandManipulateBlockRotateParallel_BooleanTouchSensorsDense-v1', 'HandManipulateBlockRotateParallel_ContinuousTouchSensorsDense-v0', 'HandManipulateBlockRotateParallel_ContinuousTouchSensorsDense-v1', 'HandManipulateBlockRotateXYZDense-v0', 'HandManipulateBlockRotateXYZDense-v1', 'HandManipulateBlockRotateXYZ_BooleanTouchSensorsDense-v0', 'HandManipulateBlockRotateXYZ_BooleanTouchSensorsDense-v1', 'HandManipulateBlockRotateXYZ_ContinuousTouchSensorsDense-v0', 'HandManipulateBlockRotateXYZ_ContinuousTouchSensorsDense-v1', 'HandManipulateBlockFullDense-v0', 'HandManipulateBlockFullDense-v1', 'HandManipulateBlockDense-v0', 'HandManipulateBlockDense-v1', 'HandManipulateBlock_BooleanTouchSensorsDense-v0', 'HandManipulateBlock_BooleanTouchSensorsDense-v1', 'HandManipulateBlock_ContinuousTouchSensorsDense-v0', 'HandManipulateBlock_ContinuousTouchSensorsDense-v1', 'HandManipulateEggRotateDense-v0', 'HandManipulateEggRotateDense-v1', 'HandManipulateEggRotate_BooleanTouchSensorsDense-v0', 'HandManipulateEggRotate_BooleanTouchSensorsDense-v1', 'HandManipulateEggRotate_ContinuousTouchSensorsDense-v0', 'HandManipulateEggRotate_ContinuousTouchSensorsDense-v1', 'HandManipulateEggFullDense-v0', 'HandManipulateEggFullDense-v1', 'HandManipulateEggDense-v0', 'HandManipulateEggDense-v1', 'HandManipulateEgg_BooleanTouchSensorsDense-v0', 'HandManipulateEgg_BooleanTouchSensorsDense-v1', 'HandManipulateEgg_ContinuousTouchSensorsDense-v0', 'HandManipulateEgg_ContinuousTouchSensorsDense-v1', 'HandManipulatePenRotateDense-v0', 'HandManipulatePenRotateDense-v1', 'HandManipulatePenRotate_BooleanTouchSensorsDense-v0', 'HandManipulatePenRotate_BooleanTouchSensorsDense-v1', 'HandManipulatePenRotate_ContinuousTouchSensorsDense-v0', 'HandManipulatePenRotate_ContinuousTouchSensorsDense-v1', 'HandManipulatePenFullDense-v0', 'HandManipulatePenFullDense-v1', 'HandManipulatePenDense-v0', 'HandManipulatePenDense-v1', 'HandManipulatePen_BooleanTouchSensorsDense-v0', 'HandManipulatePen_BooleanTouchSensorsDense-v1', 'HandManipulatePen_ContinuousTouchSensorsDense-v0', 'HandManipulatePen_ContinuousTouchSensorsDense-v1', 'AntMaze_UMazeDense-v3', 'AntMaze_OpenDense-v3', 'AntMaze_Open_Diverse_GDense-v3', 'AntMaze_Open_Diverse_GRDense-v3', 'AntMaze_MediumDense-v3', 'AntMaze_Medium_Diverse_GDense-v3', 'AntMaze_Medium_Diverse_GRDense-v3', 'AntMaze_LargeDense-v3', 'AntMaze_Large_Diverse_GDense-v3', 'AntMaze_Large_Diverse_GRDense-v3', 'AntMaze_UMazeDense-v4', 'AntMaze_OpenDense-v4', 'AntMaze_Open_Diverse_GDense-v4', 'AntMaze_Open_Diverse_GRDense-v4', 'AntMaze_MediumDense-v4', 'AntMaze_Medium_Diverse_GDense-v4', 'AntMaze_Medium_Diverse_GRDense-v4', 'AntMaze_LargeDense-v4', 'AntMaze_Large_Diverse_GDense-v4', 'AntMaze_Large_Diverse_GRDense-v4', 'AntMaze_UMazeDense-v5', 'AntMaze_OpenDense-v5', 'AntMaze_Open_Diverse_GDense-v5', 'AntMaze_Open_Diverse_GRDense-v5', 'AntMaze_MediumDense-v5', 'AntMaze_Medium_Diverse_GDense-v5', 'AntMaze_Medium_Diverse_GRDense-v5', 'AntMaze_LargeDense-v5', 'AntMaze_Large_Diverse_GDense-v5', 'AntMaze_Large_Diverse_GRDense-v5', 'PointMaze_UMazeDense-v3', 'PointMaze_OpenDense-v3', 'PointMaze_Open_Diverse_GDense-v3', 'PointMaze_Open_Diverse_GRDense-v3', 'PointMaze_MediumDense-v3', 'PointMaze_Medium_Diverse_GDense-v3', 'PointMaze_Medium_Diverse_GRDense-v3', 'PointMaze_LargeDense-v3', 'PointMaze_Large_Diverse_GDense-v3', 'PointMaze_Large_Diverse_GRDense-v3', 'AdroitHandDoorSparse-v1', 'AdroitHandHammerSparse-v1', 'AdroitHandPenSparse-v1', 'AdroitHandRelocateSparse-v1', 'AdroitHandDoor-v1', 'AdroitHandHammer-v1', 'AdroitHandPen-v1', 'AdroitHandRelocate-v1', 'FrankaKitchen-v1'])\n",
            "EnvSpec(id='FetchReach-v3', entry_point='gymnasium_robotics.envs.fetch.reach:MujocoFetchReachEnv', reward_threshold=None, nondeterministic=False, max_episode_steps=50, order_enforce=True, disable_env_checker=False, kwargs={'reward_type': 'sparse'}, namespace=None, name='FetchReach', version=3, additional_wrappers=(), vector_entry_point=None)\n"
          ]
        }
      ],
      "source": [
        "print(gym.envs.registry.keys())\n",
        "print(gym.envs.registry[\"FetchReach-v3\"])"
      ]
    },
    {
      "cell_type": "code",
      "execution_count": null,
      "metadata": {
        "collapsed": true,
        "id": "d7UgCTkwWHFq"
      },
      "outputs": [],
      "source": [
        "# Enable EGL rendering\n",
        "os.environ['MUJOCO_GL'] = 'egl'\n",
        "\n",
        "# Create and wrap environment\n",
        "env = gym.make(\"FetchReach-v3\", reward_type=\"dense\", render_mode=\"rgb_array\")"
      ]
    },
    {
      "cell_type": "code",
      "execution_count": null,
      "metadata": {
        "id": "hjcn1DDKrZCS"
      },
      "outputs": [],
      "source": [
        "# Set up callback for saving checkpoints\n",
        "checkpoint_callback = CheckpointCallback(\n",
        "    save_freq=50_000,\n",
        "    save_path='./sac_checkpoints/',\n",
        "    name_prefix='sac_model'\n",
        ")"
      ]
    },
    {
      "cell_type": "code",
      "execution_count": null,
      "metadata": {
        "id": "c3_Wdkbirrnv"
      },
      "outputs": [],
      "source": [
        "#\n",
        "# Train the model\n",
        "#\n",
        "total_timesteps = 300_000\n",
        "model = SAC(\"MultiInputPolicy\", env, verbose=1)\n",
        "model.learn(total_timesteps=total_timesteps, callback=checkpoint_callback)\n",
        "\n",
        "# Save the model\n",
        "model.save(\"/content/drive/MyDrive/fetchreach_SAC_model_300k\") # it's a zip file\n",
        "env.close()"
      ]
    },
    {
      "cell_type": "code",
      "execution_count": null,
      "metadata": {
        "colab": {
          "base_uri": "https://localhost:8080/"
        },
        "id": "ijDHvlR7ZPGJ",
        "outputId": "c397d9d6-134a-4417-e08f-8aa18c34a776"
      },
      "outputs": [
        {
          "output_type": "stream",
          "name": "stderr",
          "text": [
            "/usr/local/lib/python3.11/dist-packages/stable_baselines3/common/evaluation.py:67: UserWarning: Evaluation environment is not wrapped with a ``Monitor`` wrapper. This may result in reporting modified episode lengths and rewards, if other wrappers happen to modify these. Consider wrapping environment first with ``Monitor`` wrapper.\n",
            "  warnings.warn(\n"
          ]
        },
        {
          "output_type": "stream",
          "name": "stdout",
          "text": [
            "\n",
            "[Evaluate_Policy] Mean reward: -8.12 ± 3.44\n"
          ]
        }
      ],
      "source": [
        "#\n",
        "# Evaluate the trained model\n",
        "#\n",
        "# Load back model (if necessary)\n",
        "model = SAC.load(\"/content/drive/MyDrive/fetchreach_SAC_model_300k\")\n",
        "env = gym.make(\"FetchReach-v3\", reward_type=\"dense\", render_mode=None)\n",
        "\n",
        "mean_reward, std_reward = evaluate_policy(model, env, n_eval_episodes=100)\n",
        "print(f\"\\n[Evaluate_Policy] Mean reward: {mean_reward:.2f} ± {std_reward:.2f}\")\n",
        "\n",
        "env.close()"
      ]
    },
    {
      "cell_type": "code",
      "execution_count": null,
      "metadata": {
        "colab": {
          "base_uri": "https://localhost:8080/"
        },
        "id": "nbLhlFj9bIz-",
        "outputId": "ba06b74e-d118-4607-d64a-348668025e15"
      },
      "outputs": [
        {
          "output_type": "stream",
          "name": "stdout",
          "text": [
            "[Manual Evaluation] Mean reward: -7.63 ± 3.26\n",
            "\n",
            "--- Comparison ---\n",
            "evaluate_policy(): Mean = -8.12, Std = 3.44\n",
            "Manual rollout:   Mean = -7.63, Std = 3.26\n"
          ]
        }
      ],
      "source": [
        "# Manual evaluation over 100 episodes with success rate\n",
        "env = gym.make(\"FetchReach-v3\", reward_type=\"dense\", render_mode=None)\n",
        "manual_rewards = []\n",
        "\n",
        "for ep in range(100):\n",
        "    obs, _ = env.reset()\n",
        "    done = False\n",
        "    episode_reward = 0\n",
        "    while not done:\n",
        "        action, _ = model.predict(obs, deterministic=True)\n",
        "        obs, reward, terminated, truncated, info = env.step(action)\n",
        "        done = terminated or truncated\n",
        "        episode_reward += reward\n",
        "    manual_rewards.append(episode_reward)\n",
        "\n",
        "manual_mean = np.mean(manual_rewards)\n",
        "manual_std = np.std(manual_rewards)\n",
        "\n",
        "print(f\"[Manual Evaluation] Mean reward: {manual_mean:.2f} ± {manual_std:.2f}\")\n",
        "\n",
        "# Comparison\n",
        "print(\"\\n--- Comparison ---\")\n",
        "print(f\"evaluate_policy(): Mean = {mean_reward:.2f}, Std = {std_reward:.2f}\")\n",
        "print(f\"Manual rollout:   Mean = {manual_mean:.2f}, Std = {manual_std:.2f}\")\n",
        "\n",
        "env.close()"
      ]
    },
    {
      "cell_type": "markdown",
      "metadata": {
        "id": "-O3N20fU5Lve"
      },
      "source": [
        "**Video Generation**"
      ]
    },
    {
      "cell_type": "code",
      "execution_count": null,
      "metadata": {
        "colab": {
          "base_uri": "https://localhost:8080/"
        },
        "id": "eCE9Wvyz-QWk",
        "outputId": "3a9fa22e-59cd-4106-d70b-362889338ba0"
      },
      "outputs": [
        {
          "output_type": "stream",
          "name": "stderr",
          "text": [
            "/usr/local/lib/python3.11/dist-packages/gym/core.py:317: DeprecationWarning: \u001b[33mWARN: Initializing wrapper in old step API which returns one bool instead of two. It is recommended to set `new_step_api=True` to use new step API. This will be the default behaviour in future.\u001b[0m\n",
            "  deprecation(\n",
            "/usr/local/lib/python3.11/dist-packages/gym/wrappers/record_video.py:78: UserWarning: \u001b[33mWARN: Overwriting existing videos at /content/video folder (try specifying a different `video_folder` for the `RecordVideo` wrapper if this is not desired)\u001b[0m\n",
            "  logger.warn(\n"
          ]
        },
        {
          "output_type": "stream",
          "name": "stdout",
          "text": [
            "Trajectory total reward = -7.7900\n",
            "Total Euclidean distance = 7.7900\n",
            "Match: True\n",
            "Minimum distance to goal during trajectory = 0.0527\n"
          ]
        }
      ],
      "source": [
        "# Simulate one trajectory with video recording\n",
        "env = gym.make(\"FetchReach-v3\", reward_type=\"dense\", render_mode=\"rgb_array\")\n",
        "env = RecordVideo(env, video_folder=\"video\", episode_trigger=lambda x: True)\n",
        "\n",
        "obs, _ = env.reset()\n",
        "achieved, desired = [], []\n",
        "total_reward = 0\n",
        "min_distance = float(\"inf\")\n",
        "\n",
        "for _ in range(100):\n",
        "    action, _ = model.predict(obs, deterministic=True)\n",
        "    obs, reward, done, info = env.step(action)\n",
        "    total_reward += reward\n",
        "\n",
        "    # Track goals\n",
        "    ag = obs[\"achieved_goal\"]\n",
        "    dg = obs[\"desired_goal\"]\n",
        "    achieved.append(ag)\n",
        "    desired.append(dg)\n",
        "\n",
        "    # Compute distance\n",
        "    dist = np.linalg.norm(ag - dg)\n",
        "    min_distance = min(min_distance, dist)\n",
        "\n",
        "    if done:\n",
        "        break\n",
        "\n",
        "env.close()\n",
        "\n",
        "achieved = np.array(achieved)\n",
        "desired = np.array(desired)\n",
        "total_dist = np.sum(np.linalg.norm(achieved - desired, axis=1))\n",
        "\n",
        "print(f\"Trajectory total reward = {total_reward:.4f}\")\n",
        "print(f\"Total Euclidean distance = {total_dist:.4f}\")\n",
        "print(f\"Match: {np.isclose(total_reward, -total_dist)}\")\n",
        "print(f\"Minimum distance to goal during trajectory = {min_distance:.4f}\")\n"
      ]
    },
    {
      "cell_type": "code",
      "source": [
        "# Display video\n",
        "mp4list = glob.glob('video/*.mp4')\n",
        "mp4list.sort()\n",
        "Video(mp4list[-1], embed=True)"
      ],
      "metadata": {
        "colab": {
          "base_uri": "https://localhost:8080/",
          "height": 501
        },
        "id": "7HTAztlckyLG",
        "outputId": "409f291d-7a32-4815-b126-94de11fee44e"
      },
      "execution_count": null,
      "outputs": [
        {
          "output_type": "execute_result",
          "data": {
            "text/plain": [
              "<IPython.core.display.Video object>"
            ],
            "text/html": [
              "<video controls  >\n",
              " <source src=\"data:video/mp4;base64,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\" type=\"video/mp4\">\n",
              " Your browser does not support the video tag.\n",
              " </video>"
            ]
          },
          "metadata": {},
          "execution_count": 15
        }
      ]
    }
  ],
  "metadata": {
    "accelerator": "GPU",
    "colab": {
      "gpuType": "T4",
      "provenance": []
    },
    "kernelspec": {
      "display_name": "Python 3",
      "name": "python3"
    },
    "language_info": {
      "codemirror_mode": {
        "name": "ipython",
        "version": 3
      },
      "file_extension": ".py",
      "mimetype": "text/x-python",
      "name": "python",
      "nbconvert_exporter": "python",
      "pygments_lexer": "ipython3",
      "version": "3.6.5"
    }
  },
  "nbformat": 4,
  "nbformat_minor": 0
}