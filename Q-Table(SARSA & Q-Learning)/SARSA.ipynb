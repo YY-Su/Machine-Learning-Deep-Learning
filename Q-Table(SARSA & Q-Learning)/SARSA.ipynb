{
  "nbformat": 4,
  "nbformat_minor": 0,
  "metadata": {
    "kernelspec": {
      "display_name": "Python 3",
      "language": "python",
      "name": "python3"
    },
    "language_info": {
      "codemirror_mode": {
        "name": "ipython",
        "version": 3
      },
      "file_extension": ".py",
      "mimetype": "text/x-python",
      "name": "python",
      "nbconvert_exporter": "python",
      "pygments_lexer": "ipython3",
      "version": "3.6.5"
    },
    "colab": {
      "provenance": []
    }
  },
  "cells": [
    {
      "cell_type": "markdown",
      "metadata": {
        "id": "V0iLn5MDNHyK"
      },
      "source": [
        "#OpenAI Gym - Frozen Lake"
      ]
    },
    {
      "cell_type": "code",
      "metadata": {
        "id": "cjxktKT6NHyN"
      },
      "source": [
        "import numpy as np\n",
        "import gym\n",
        "from IPython.display import clear_output\n",
        "import time"
      ],
      "execution_count": null,
      "outputs": []
    },
    {
      "cell_type": "code",
      "source": [
        "# ---------------------------\n",
        "# PARAMETERS\n",
        "# ---------------------------\n",
        "GAMMA = 0.9     # Discount factor\n",
        "ALPHA = 0.1     # Learning rate\n",
        "EPS = 1.0       # Initial epsilon (exploration rate)\n",
        "MIN_EPS = 0.01  # Minimum epsilon\n",
        "DECAY = 0.99    # Epsilon decay rate\n",
        "EPISODES = 10000  # Number of training episodes"
      ],
      "metadata": {
        "id": "IXV-evoZD0g9"
      },
      "execution_count": null,
      "outputs": []
    },
    {
      "cell_type": "markdown",
      "metadata": {
        "id": "IHCMSaerNHyX"
      },
      "source": [
        "## Setup Gym Env"
      ]
    },
    {
      "cell_type": "code",
      "metadata": {
        "id": "0v6AlmqUNHyY"
      },
      "source": [
        "#\n",
        "# The reward is 1 if you reach the Goal and 0 otherwise.\n",
        "# Landing on a hole will terminate the game\n",
        "# is_slippery=False -> it's deterministic\n",
        "# render_mode='ansi' refers to display on text-based console\n",
        "#\n",
        "# For details: https://gymnasium.farama.org/environments/toy_text/frozen_lake/\n",
        "#\n",
        "env = gym.make('FrozenLake-v1', new_step_api=True, render_mode='ansi', is_slippery=False) #new_step_api=True => use the new api"
      ],
      "execution_count": null,
      "outputs": []
    },
    {
      "cell_type": "code",
      "source": [
        "print(\"No of states:\", env.observation_space.n)\n",
        "print(\"No of actions:\", env.action_space.n)\n",
        "# Initialize Q-table with zeros\n",
        "Q_table = np.zeros((env.observation_space.n, env.action_space.n))\n",
        "\n",
        "total_goal = 0 #keep track of cumulative total number of goals reached after EPISODES of training\n",
        "               #some episodes will result in failures with 0 return while successful ones will return value of 1 each"
      ],
      "metadata": {
        "colab": {
          "base_uri": "https://localhost:8080/"
        },
        "id": "d7UgCTkwWHFq",
        "outputId": "0c3048e7-9e2a-4c7d-9dd4-485766b23189"
      },
      "execution_count": null,
      "outputs": [
        {
          "output_type": "stream",
          "name": "stdout",
          "text": [
            "No of states: 16\n",
            "No of actions: 4\n"
          ]
        }
      ]
    },
    {
      "cell_type": "code",
      "source": [
        "#print(env.observation_space) # meaning values are 0 to 15\n",
        "#print(env.action_space) # meaning values are 0 to 3"
      ],
      "metadata": {
        "id": "QJCoRX-YLAfq"
      },
      "execution_count": null,
      "outputs": []
    },
    {
      "cell_type": "markdown",
      "source": [
        "#Training"
      ],
      "metadata": {
        "id": "yM7fh1Y0ExOi"
      }
    },
    {
      "cell_type": "markdown",
      "source": [
        "**Use SARSA to train the agent and get its Q-values. During training, find the total number of goals achieved out of\n",
        "the 10,000 episodes. Print the total goals and the cumulative success\n",
        "percentage.**"
      ],
      "metadata": {
        "id": "rs6n5MH3h3DV"
      }
    },
    {
      "cell_type": "code",
      "metadata": {
        "id": "EuiQ4E0LNHyf",
        "outputId": "c9ec5582-32fc-47bc-d39d-de721b7cea50",
        "colab": {
          "base_uri": "https://localhost:8080/"
        }
      },
      "source": [
        "# ---------------------------\n",
        "# PART 1: TRAINING THE AGENT (SARSA)\n",
        "# ---------------------------\n",
        "for episode in range(EPISODES):\n",
        "    state = env.reset()\n",
        "    terminated = False\n",
        "    truncated = False\n",
        "\n",
        "    # Choose initial action using epsilon-greedy policy\n",
        "    action = env.action_space.sample() if np.random.uniform(0, 1) < EPS else np.argmax(Q_table[state, :])\n",
        "\n",
        "    while not (terminated or truncated):\n",
        "        # Take action and observe result\n",
        "        next_state, reward, terminated, truncated, _ = env.step(action)\n",
        "\n",
        "        # Choose next action using epsilon-greedy policy (SARSA update)\n",
        "        next_action = env.action_space.sample() if np.random.uniform(0, 1) < EPS else np.argmax(Q_table[next_state, :])\n",
        "\n",
        "        # Update Q-value using the SARSA formula\n",
        "        Q_table[state, action] = Q_table[state, action] + ALPHA * (\n",
        "            reward + GAMMA * Q_table[next_state, next_action] - Q_table[state, action]\n",
        "        )\n",
        "\n",
        "        state, action = next_state, next_action  # Move to next state and action\n",
        "\n",
        "        if reward == 1:\n",
        "            total_goal += 1  # Count successful attempts\n",
        "\n",
        "    # Decay exploration rate\n",
        "    EPS = max(MIN_EPS, EPS * DECAY)\n",
        "\n",
        "print(\"Done\")"
      ],
      "execution_count": null,
      "outputs": [
        {
          "output_type": "stream",
          "name": "stderr",
          "text": [
            "/usr/local/lib/python3.11/dist-packages/gym/utils/passive_env_checker.py:241: DeprecationWarning: `np.bool8` is a deprecated alias for `np.bool_`.  (Deprecated NumPy 1.24)\n",
            "  if not isinstance(terminated, (bool, np.bool8)):\n"
          ]
        },
        {
          "output_type": "stream",
          "name": "stdout",
          "text": [
            "Done\n"
          ]
        }
      ]
    },
    {
      "cell_type": "code",
      "source": [
        "# Print Training Results\n",
        "success_rate = (total_goal * 100 / EPISODES)\n",
        "print(f\"Total Goals: {total_goal}, Cumulative Success Rate: {success_rate:.1f}%\")"
      ],
      "metadata": {
        "colab": {
          "base_uri": "https://localhost:8080/"
        },
        "id": "SrMyFIzCqvdF",
        "outputId": "d1fa5b88-c52a-4aaa-d3f6-f99657732575"
      },
      "execution_count": null,
      "outputs": [
        {
          "output_type": "stream",
          "name": "stdout",
          "text": [
            "Total Goals: 9764, Cumulative Success Rate: 97.6%\n"
          ]
        }
      ]
    },
    {
      "cell_type": "markdown",
      "source": [
        "#Code to Render Display & Display Optimal Policy"
      ],
      "metadata": {
        "id": "EA8Qt_FSb3Y0"
      }
    },
    {
      "cell_type": "markdown",
      "source": [
        "**With the obtained Q-values, show the optimal\n",
        "policy through rendering the display output (i.e., it should show agent\n",
        "moving the 6 steps to reach the Goal from the Start tile with the help of\n",
        "the obtained Q-values).**"
      ],
      "metadata": {
        "id": "5HdnQDgxiBeo"
      }
    },
    {
      "cell_type": "code",
      "source": [
        "# ---------------------------\n",
        "# PART 2: DISPLAY OPTIMAL POLICY\n",
        "# ---------------------------\n",
        "print(\"\\nOptimal Policy Demonstration:\")\n",
        "time.sleep(2)\n",
        "\n",
        "for episode in range(1, 2):  # Start from episode 1 to avoid confusion\n",
        "    state, _ = env.reset(return_info=True)\n",
        "    truncated = False\n",
        "    terminated = False\n",
        "\n",
        "    while not (truncated or terminated):\n",
        "        clear_output(wait=True)\n",
        "        print(f\"Episode {episode}\")\n",
        "        for e in env.render():\n",
        "            print(e)\n",
        "        time.sleep(0.5)\n",
        "\n",
        "        # Select best action based on learned Q-table\n",
        "        action = np.argmax(Q_table[state, :])\n",
        "\n",
        "        # Take action and move to the next state\n",
        "        next_state, reward, terminated, truncated, _ = env.step(action)\n",
        "        state = next_state\n",
        "\n",
        "    # Display last frame\n",
        "    clear_output(wait=True)\n",
        "    print(f\"Q-Table Optimal Step (SARSA)\")\n",
        "    for e in env.render():\n",
        "        print(e)\n",
        "    time.sleep(1)\n",
        "\n",
        "print(\"\\nOptimal policy execution completed!\")"
      ],
      "metadata": {
        "colab": {
          "base_uri": "https://localhost:8080/"
        },
        "id": "ibhG8eHSpss1",
        "outputId": "e074bedd-c638-4ff3-ec18-938896bf2052"
      },
      "execution_count": null,
      "outputs": [
        {
          "output_type": "stream",
          "name": "stdout",
          "text": [
            "Q-Table Optimal Step (SARSA)\n",
            "  (Right)\n",
            "SFFF\n",
            "FHFH\n",
            "FFFH\n",
            "HFF\u001b[41mG\u001b[0m\n",
            "\n",
            "\n",
            "Optimal policy execution completed!\n"
          ]
        }
      ]
    }
  ]
}