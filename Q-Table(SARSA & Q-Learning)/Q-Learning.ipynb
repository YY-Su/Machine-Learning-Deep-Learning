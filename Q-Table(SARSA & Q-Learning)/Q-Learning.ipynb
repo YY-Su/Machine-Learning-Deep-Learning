{
  "nbformat": 4,
  "nbformat_minor": 0,
  "metadata": {
    "kernelspec": {
      "display_name": "Python 3",
      "language": "python",
      "name": "python3"
    },
    "language_info": {
      "codemirror_mode": {
        "name": "ipython",
        "version": 3
      },
      "file_extension": ".py",
      "mimetype": "text/x-python",
      "name": "python",
      "nbconvert_exporter": "python",
      "pygments_lexer": "ipython3",
      "version": "3.6.5"
    },
    "colab": {
      "provenance": []
    }
  },
  "cells": [
    {
      "cell_type": "markdown",
      "metadata": {
        "id": "V0iLn5MDNHyK"
      },
      "source": [
        "#OpenAI Gym - Frozen Lake"
      ]
    },
    {
      "cell_type": "code",
      "metadata": {
        "id": "cjxktKT6NHyN"
      },
      "source": [
        "import numpy as np\n",
        "import gym\n",
        "from IPython.display import clear_output\n",
        "import time"
      ],
      "execution_count": null,
      "outputs": []
    },
    {
      "cell_type": "code",
      "source": [
        "# ---------------------------\n",
        "# PARAMETERS\n",
        "# ---------------------------\n",
        "GAMMA = 0.9     # Discount factor\n",
        "ALPHA = 0.1     # Learning rate\n",
        "EPS = 1.0       # Initial epsilon (exploration rate)\n",
        "MIN_EPS = 0.01  # Minimum epsilon\n",
        "DECAY = 0.99    # Epsilon decay rate\n",
        "EPISODES = 10000  # Number of training episodes"
      ],
      "metadata": {
        "id": "IXV-evoZD0g9"
      },
      "execution_count": null,
      "outputs": []
    },
    {
      "cell_type": "markdown",
      "metadata": {
        "id": "IHCMSaerNHyX"
      },
      "source": [
        "## Setup Gym Env"
      ]
    },
    {
      "cell_type": "code",
      "metadata": {
        "id": "0v6AlmqUNHyY"
      },
      "source": [
        "#\n",
        "# The reward is 1 if you reach the Goal and 0 otherwise.\n",
        "# Landing on a hole will terminate the game\n",
        "# is_slippery=False -> it's deterministic\n",
        "# render_mode='ansi' refers to display on text-based console\n",
        "#\n",
        "# For details: https://gymnasium.farama.org/environments/toy_text/frozen_lake/\n",
        "#\n",
        "env = gym.make('FrozenLake-v1', new_step_api=True, render_mode='ansi', is_slippery=False) #new_step_api=True => use the new api"
      ],
      "execution_count": null,
      "outputs": []
    },
    {
      "cell_type": "code",
      "source": [
        "# Number of states and actions\n",
        "num_states = env.observation_space.n\n",
        "num_actions = env.action_space.n\n",
        "print(\"No of states:\", env.observation_space.n)\n",
        "print(\"No of actions:\", env.action_space.n)"
      ],
      "metadata": {
        "colab": {
          "base_uri": "https://localhost:8080/"
        },
        "id": "d7UgCTkwWHFq",
        "outputId": "9c3b649d-6630-4208-c06f-57aa82c16854"
      },
      "execution_count": null,
      "outputs": [
        {
          "output_type": "stream",
          "name": "stdout",
          "text": [
            "No of states: 16\n",
            "No of actions: 4\n"
          ]
        }
      ]
    },
    {
      "cell_type": "code",
      "source": [
        "print(env.observation_space) # meaning values are 0 to 15\n",
        "print(env.action_space) # meaning values are 0 to 3\n",
        "\n",
        "# Initialize Q-table with zeros\n",
        "q_table = np.zeros((num_states, num_actions))\n",
        "total_goal = 0"
      ],
      "metadata": {
        "colab": {
          "base_uri": "https://localhost:8080/"
        },
        "id": "QJCoRX-YLAfq",
        "outputId": "406b1c38-b8d1-4d08-cf94-224787576f70"
      },
      "execution_count": null,
      "outputs": [
        {
          "output_type": "stream",
          "name": "stdout",
          "text": [
            "Discrete(16)\n",
            "Discrete(4)\n"
          ]
        }
      ]
    },
    {
      "cell_type": "markdown",
      "source": [
        "#Training"
      ],
      "metadata": {
        "id": "yM7fh1Y0ExOi"
      }
    },
    {
      "cell_type": "markdown",
      "source": [
        "**Use Q-Learning to train the agent and get its Q-values. During training, find the total number of goals achieved out of\n",
        "the 10,000 episodes. Print the total goals and the cumulative success\n",
        "percentage.**"
      ],
      "metadata": {
        "id": "ikQvAk5AhRI5"
      }
    },
    {
      "cell_type": "code",
      "metadata": {
        "id": "EuiQ4E0LNHyf",
        "outputId": "7ff1409c-3760-4e95-9a07-59d6c142cb12",
        "colab": {
          "base_uri": "https://localhost:8080/"
        }
      },
      "source": [
        "# Q-Learning Training\n",
        "for episode in range(EPISODES):\n",
        "    state = env.reset()\n",
        "    terminated = False\n",
        "    truncated = False\n",
        "    epsilon = max(MIN_EPS, EPS * (DECAY ** episode))\n",
        "\n",
        "    while not (terminated or truncated):\n",
        "        # Epsilon-greedy action selection\n",
        "        if np.random.rand() < epsilon:\n",
        "            action = env.action_space.sample()  # Explore\n",
        "        else:\n",
        "            action = np.argmax(q_table[state])  # Exploit\n",
        "\n",
        "        next_state, reward, terminated, truncated, _ = env.step(action)\n",
        "\n",
        "        # Update Q-value\n",
        "        q_table[state, action] = q_table[state, action] + ALPHA * (reward + GAMMA * np.max(q_table[next_state]) - q_table[state, action])\n",
        "\n",
        "        state = next_state\n",
        "\n",
        "        if reward == 1:\n",
        "            total_goal += 1\n",
        "\n",
        "print(f\"Total Goal: {total_goal}, Cumulative Success: {(total_goal * 100 / EPISODES):.1f}%\")"
      ],
      "execution_count": null,
      "outputs": [
        {
          "output_type": "stream",
          "name": "stdout",
          "text": [
            "Total Goal: 9783, Cumulative Success: 97.8%\n"
          ]
        }
      ]
    },
    {
      "cell_type": "markdown",
      "source": [
        "#Code to Render Display & Display Optimal Policy"
      ],
      "metadata": {
        "id": "EA8Qt_FSb3Y0"
      }
    },
    {
      "cell_type": "markdown",
      "source": [
        "**With the obtained Q-values, show the optimal\n",
        "policy through rendering the display output (i.e., it should show agent\n",
        "moving the 6 steps to reach the Goal from the Start tile with the help of\n",
        "the obtained Q-values).**"
      ],
      "metadata": {
        "id": "ezKpYYiEhfG6"
      }
    },
    {
      "cell_type": "code",
      "source": [
        "# ---------------------------\n",
        "# PART 2: DISPLAY OPTIMAL POLICY\n",
        "# ---------------------------\n",
        "print(\"\\nOptimal Policy Demonstration:\")\n",
        "time.sleep(2)\n",
        "\n",
        "for episode in range(1, 2):  # Start from episode 1 to avoid confusion\n",
        "    state, _ = env.reset(return_info=True)\n",
        "    truncated = False\n",
        "    terminated = False\n",
        "\n",
        "    while not (truncated or terminated):\n",
        "        clear_output(wait=True)\n",
        "        print(f\"Episode {episode}\")\n",
        "        for e in env.render():\n",
        "            print(e)\n",
        "        time.sleep(0.5)\n",
        "\n",
        "        # Select best action based on learned Q-table\n",
        "        action = np.argmax(q_table[state, :])\n",
        "\n",
        "        # Take action and move to the next state\n",
        "        next_state, reward, terminated, truncated, _ = env.step(action)\n",
        "        state = next_state\n",
        "\n",
        "    # Display last frame\n",
        "    clear_output(wait=True)\n",
        "    print(f\"Q-Table Optimal Step (Q-Learning)\")\n",
        "    for e in env.render():\n",
        "        print(e)\n",
        "    time.sleep(1)\n",
        "\n",
        "print(\"\\nOptimal policy execution completed!\")"
      ],
      "metadata": {
        "colab": {
          "base_uri": "https://localhost:8080/"
        },
        "id": "XUYcxPoia2B-",
        "outputId": "44568103-3e6e-4d0e-d601-dc23279d01b6"
      },
      "execution_count": null,
      "outputs": [
        {
          "output_type": "stream",
          "name": "stdout",
          "text": [
            "Q-Table Optimal Step (Q-Learning)\n",
            "  (Right)\n",
            "SFFF\n",
            "FHFH\n",
            "FFFH\n",
            "HFF\u001b[41mG\u001b[0m\n",
            "\n",
            "\n",
            "Optimal policy execution completed!\n"
          ]
        }
      ]
    }
  ]
}